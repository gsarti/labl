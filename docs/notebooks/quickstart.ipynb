{
 "cells": [
  {
   "cell_type": "markdown",
   "metadata": {},
   "source": [
    "# WQE Quickstart"
   ]
  },
  {
   "cell_type": "code",
   "execution_count": null,
   "metadata": {},
   "outputs": [],
   "source": [
    "from datasets import load_dataset\n",
    "\n",
    "from wqe.data import HuggingfaceTokenizer, WQEDataset"
   ]
  },
  {
   "cell_type": "code",
   "execution_count": null,
   "metadata": {},
   "outputs": [],
   "source": [
    "full_main = load_dataset(\"gsarti/qe4pe\", \"main\")[\"train\"].to_pandas()\n",
    "main = full_main[(~full_main[\"has_issue\"]) & (full_main[\"translator_main_id\"] != \"no_highlight_t4\")]"
   ]
  },
  {
   "cell_type": "code",
   "execution_count": null,
   "metadata": {},
   "outputs": [],
   "source": [
    "dataset = WQEDataset.from_edits(\n",
    "    list(main[\"mt_text\"]),\n",
    "    list(main[\"pe_text\"]),\n",
    "    tokenizer=HuggingfaceTokenizer(\n",
    "        \"facebook/nllb-200-3.3B\",\n",
    "        src_lang=\"eng_Latn\",\n",
    "        tgt_lang=\"ita_Latn\",\n",
    "        add_special_tokens=False,\n",
    "        has_bos_token=True,\n",
    "        has_eos_token=True,\n",
    "        local_files_only=True,\n",
    "    ),\n",
    ")"
   ]
  },
  {
   "cell_type": "code",
   "execution_count": null,
   "metadata": {},
   "outputs": [],
   "source": []
  }
 ],
 "metadata": {
  "kernelspec": {
   "display_name": ".venv",
   "language": "python",
   "name": "python3"
  },
  "language_info": {
   "codemirror_mode": {
    "name": "ipython",
    "version": 3
   },
   "file_extension": ".py",
   "mimetype": "text/x-python",
   "name": "python",
   "nbconvert_exporter": "python",
   "pygments_lexer": "ipython3",
   "version": "3.10.15"
  }
 },
 "nbformat": 4,
 "nbformat_minor": 2
}
